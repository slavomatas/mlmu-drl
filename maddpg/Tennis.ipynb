{
 "cells": [
  {
   "cell_type": "markdown",
   "metadata": {},
   "source": [
    "# Collaboration and Competition with MADDPG Agent\n",
    "\n",
    "---\n",
    "\n",
    "### 1. Start the Environment\n"
   ]
  },
  {
   "cell_type": "code",
   "execution_count": 1,
   "metadata": {
    "scrolled": true
   },
   "outputs": [],
   "source": [
    "from unityagents import UnityEnvironment\n",
    "import numpy as np"
   ]
  },
  {
   "cell_type": "code",
   "execution_count": 3,
   "metadata": {
    "scrolled": true
   },
   "outputs": [
    {
     "name": "stderr",
     "output_type": "stream",
     "text": [
      "INFO:unityagents:\n",
      "'Academy' started successfully!\n",
      "Unity Academy name: Academy\n",
      "        Number of Brains: 1\n",
      "        Number of External Brains : 1\n",
      "        Lesson number : 0\n",
      "        Reset Parameters :\n",
      "\t\t\n",
      "Unity brain name: TennisBrain\n",
      "        Number of Visual Observations (per agent): 0\n",
      "        Vector Observation space type: continuous\n",
      "        Vector Observation space size (per agent): 8\n",
      "        Number of stacked Vector Observation: 3\n",
      "        Vector Action space type: continuous\n",
      "        Vector Action space size (per agent): 2\n",
      "        Vector Action descriptions: , \n"
     ]
    }
   ],
   "source": [
    "env = UnityEnvironment(file_name='/home/slavo/Dev/ma_collab-compet/Tennis_Linux/Tennis.x86_64')"
   ]
  },
  {
   "cell_type": "markdown",
   "metadata": {},
   "source": [
    "Environments contain **_brains_** which are responsible for deciding the actions of their associated agents. Here we check for the first brain available, and set it as the default brain we will be controlling from Python."
   ]
  },
  {
   "cell_type": "code",
   "execution_count": 4,
   "metadata": {
    "scrolled": true
   },
   "outputs": [],
   "source": [
    "# get the default brain\n",
    "brain_name = env.brain_names[0]\n",
    "brain = env.brains[brain_name]"
   ]
  },
  {
   "cell_type": "markdown",
   "metadata": {},
   "source": [
    "### 2. Examine the State and Action Spaces\n",
    "\n",
    "In this environment, two agents control rackets to bounce a ball over a net. If an agent hits the ball over the net, it receives a reward of +0.1.  If an agent lets a ball hit the ground or hits the ball out of bounds, it receives a reward of -0.01.  Thus, the goal of each agent is to keep the ball in play.\n",
    "\n",
    "The observation space consists of 8 variables corresponding to the position and velocity of the ball and racket. Two continuous actions are available, corresponding to movement toward (or away from) the net, and jumping. \n",
    "\n",
    "Run the code cell below to print some information about the environment."
   ]
  },
  {
   "cell_type": "code",
   "execution_count": 5,
   "metadata": {
    "scrolled": true
   },
   "outputs": [
    {
     "name": "stdout",
     "output_type": "stream",
     "text": [
      "Number of agents: 2\n",
      "Size of each action: 2\n",
      "There are 2 agents. Each observes a state with length: 24\n",
      "The state for the first agent looks like: [ 0.          0.          0.          0.          0.          0.\n",
      "  0.          0.          0.          0.          0.          0.\n",
      "  0.          0.          0.          0.         -6.65278625 -1.5\n",
      " -0.          0.          6.83172083  6.         -0.          0.        ]\n"
     ]
    }
   ],
   "source": [
    "# reset the environment\n",
    "env_info = env.reset(train_mode=True)[brain_name]\n",
    "\n",
    "# number of agents \n",
    "num_agents = len(env_info.agents)\n",
    "print('Number of agents:', num_agents)\n",
    "\n",
    "# size of each action\n",
    "action_size = brain.vector_action_space_size\n",
    "print('Size of each action:', action_size)\n",
    "\n",
    "# examine the state space \n",
    "states = env_info.vector_observations\n",
    "state_size = states.shape[1]\n",
    "print('There are {} agents. Each observes a state with length: {}'.format(states.shape[0], state_size))\n",
    "print('The state for the first agent looks like:', states[0])"
   ]
  },
  {
   "cell_type": "markdown",
   "metadata": {},
   "source": [
    "### 3. Multi Agent DDPG"
   ]
  },
  {
   "cell_type": "code",
   "execution_count": 6,
   "metadata": {
    "scrolled": true
   },
   "outputs": [],
   "source": [
    "import os\n",
    "import numpy as np\n",
    "import torch\n",
    "import matplotlib.pyplot as plt\n",
    "\n",
    "from collections import deque\n",
    "from agent import MADDPG\n",
    "from buffer import ReplayBuffer\n",
    "from utils import transpose_list, transpose_to_tensor\n",
    "from unityagents import UnityEnvironment\n",
    "\n",
    "BUFFER_SIZE = 100000  # replay buffer size\n",
    "BATCH_SIZE = 1024 # minibatch size"
   ]
  },
  {
   "cell_type": "code",
   "execution_count": 7,
   "metadata": {
    "scrolled": true
   },
   "outputs": [],
   "source": [
    "def seeding(seed=1):\n",
    "    np.random.seed(seed)\n",
    "    torch.manual_seed(seed)\n",
    "\n",
    "\n",
    "def train():\n",
    "    seeding()\n",
    "\n",
    "    os.environ[\"CUDA_VISIBLE_DEVICES\"] = \"1\"\n",
    "\n",
    "    print(\"GPU available: {}\".format(torch.cuda.is_available()))\n",
    "    print(\"GPU tensor test: {}\".format(torch.rand(3, 3).cuda()))\n",
    "\n",
    "    env = UnityEnvironment(file_name='/home/slavo/Dev/deep-rl-projects/ma_collab-compet/Tennis_Linux/Tennis.x86_64', no_graphics=True)\n",
    "\n",
    "    # get the default brain\n",
    "    brain_name = env.brain_names[0]\n",
    "    brain = env.brains[brain_name]\n",
    "\n",
    "    # reset the environment\n",
    "    env_info = env.reset(train_mode=True)[brain_name]\n",
    "\n",
    "    # number of agents in the environment\n",
    "    print('Number of agents:', len(env_info.agents))\n",
    "\n",
    "    # number of actions\n",
    "    action_size = brain.vector_action_space_size\n",
    "    print('Number of actions:', action_size)\n",
    "\n",
    "    # examine the state space\n",
    "    state = env_info.vector_observations[0]\n",
    "    print('States look like:', state)\n",
    "    state_size = len(state)\n",
    "    print('States have length:', state_size)\n",
    "\n",
    "    agents = len(env_info.agents)\n",
    "\n",
    "    # number of training episodes.\n",
    "    # change this to higher number to experiment. say 30000.\n",
    "    number_of_episodes = 30000\n",
    "    episode_length = 500\n",
    "\n",
    "    # how many steps before update\n",
    "    steps_per_update = 100\n",
    "\n",
    "    # amplitude of OU noise\n",
    "    # this slowly decreases to 0\n",
    "    noise = 1\n",
    "    noise_reduction = 0.9999\n",
    "\n",
    "    torch.set_num_threads(4)\n",
    "\n",
    "    buffer = ReplayBuffer(BUFFER_SIZE)\n",
    "\n",
    "    # initialize policy and critic\n",
    "    maddpg_agent = MADDPG(state_size, action_size, agents)\n",
    "\n",
    "    scores = []\n",
    "    scores_window = deque(maxlen=100)  # last 100 scores\n",
    "\n",
    "    actor_losses = []\n",
    "    critic_losses = []\n",
    "    for i in range(len(env_info.agents)):\n",
    "        actor_losses.append([])\n",
    "        critic_losses.append([])\n",
    "\n",
    "    for episode in range(0, number_of_episodes):\n",
    "\n",
    "        episode_rewards = []\n",
    "\n",
    "        env_info = env.reset(train_mode=True)[brain_name]\n",
    "        state = env_info.vector_observations\n",
    "        state_full = np.concatenate(state)\n",
    "\n",
    "        # for calculating rewards for this particular episode - addition of all time steps\n",
    "        for episode_t in range(episode_length+1):\n",
    "\n",
    "            actions = maddpg_agent.act(transpose_to_tensor(list(state)), noise=noise)\n",
    "            noise *= noise_reduction\n",
    "\n",
    "            actions = torch.stack(actions).view(-1).detach().cpu().numpy()\n",
    "            env_info = env.step(actions)[brain_name]\n",
    "\n",
    "            state_next = env_info.vector_observations  # get the next state\n",
    "            state_next_full = np.concatenate(state_next)\n",
    "            rewards = env_info.rewards  # get the reward\n",
    "            dones = env_info.local_done  # see if episode has finished\n",
    "\n",
    "            # add experiences to buffer\n",
    "            transition = (state, state_full, actions, rewards, state_next, state_next_full, dones)\n",
    "            buffer.push(transition)\n",
    "\n",
    "            episode_rewards.append(rewards)\n",
    "            state, state_full = state_next, state_next_full\n",
    "\n",
    "            # update once after every steps_per_update\n",
    "            if len(buffer) > BATCH_SIZE and (episode_t > 0) and (episode_t % steps_per_update == 0):\n",
    "                # print('maddpg update after {} steps'.format(episode_t))\n",
    "                for agent_idx in range(len(env_info.agents)):\n",
    "                    samples = buffer.sample(BATCH_SIZE)\n",
    "                    al, cl = maddpg_agent.update(samples, agent_idx)\n",
    "                    actor_losses[agent_idx].append(al)\n",
    "                    critic_losses[agent_idx].append(cl)\n",
    "                maddpg_agent.update_targets()  # soft update the target network towards the actual networks\n",
    "\n",
    "        # calculate agent episode rewards\n",
    "        agent_episode_rewards = []\n",
    "        for i in range(len(env_info.agents)):\n",
    "            agent_episode_reward = 0\n",
    "            for step in episode_rewards:\n",
    "                agent_episode_reward += step[i]\n",
    "            agent_episode_rewards.append(agent_episode_reward)\n",
    "\n",
    "        scores.append(np.max(agent_episode_rewards))\n",
    "        scores_window.append(np.max(agent_episode_rewards))\n",
    "\n",
    "        if episode > 10 and episode % 10 == 0:\n",
    "            print('\\rEpisode {}\\tAgent Rewards [{:.4f}\\t{:.4f}]\\tMax Reward {:.4f}'.format(episode,\n",
    "                                                                                           agent_episode_rewards[0],\n",
    "                                                                                           agent_episode_rewards[1],\n",
    "                                                                                           np.max(agent_episode_rewards)))\n",
    "\n",
    "            print('\\rEpisode {}\\tAverage Actor 1 Loss {:.6f}\\tAverage Critic 1 Loss {:.6f}'\n",
    "                  '\\tAverage Actor 2 Loss {:.6f}\\tAverage Critic 2 Loss {:.6f}'.format(episode,\n",
    "                                                                                       np.mean(actor_losses[0]),\n",
    "                                                                                       np.mean(critic_losses[0]),\n",
    "                                                                                       np.mean(actor_losses[1]),\n",
    "                                                                                       np.mean(critic_losses[1])))\n",
    "\n",
    "            print('\\rEpisode {}\\tAverage Score: {:.4f}'.format(episode, np.mean(scores_window)))\n",
    "\n",
    "            # reset losses\n",
    "            actor_losses = []\n",
    "            critic_losses = []\n",
    "            for i in range(len(env_info.agents)):\n",
    "                actor_losses.append([])\n",
    "                critic_losses.append([])\n",
    "\n",
    "        if episode > 100 and episode % 100 == 0:\n",
    "            print('\\rEpisode {}\\tAverage Score: {:.4f}'.format(episode, np.mean(scores_window)))\n",
    "\n",
    "        if episode > 100 and np.mean(scores_window) >= 0.5:\n",
    "            print('\\nEnvironment solved in {:d} episodes!\\tAverage Score: {:.4f}'.format(episode - 100,\n",
    "                                                                                         np.mean(scores_window)))\n",
    "            for i, save_agent in enumerate(maddpg_agent.agents):\n",
    "                torch.save(save_agent.actor.state_dict(), './checkpoints/checkpoint_actor_'+str(i)+'.pth')\n",
    "                torch.save(save_agent.critic.state_dict(), './checkpoints/checkpoint_critic_'+str(i)+'.pth')\n",
    "            break\n",
    "\n",
    "    env.close()\n",
    "    return scores"
   ]
  },
  {
   "cell_type": "code",
   "execution_count": 8,
   "metadata": {
    "scrolled": false
   },
   "outputs": [
    {
     "name": "stdout",
     "output_type": "stream",
     "text": [
      "GPU available: True\n"
     ]
    },
    {
     "ename": "RuntimeError",
     "evalue": "CUDA error: out of memory",
     "output_type": "error",
     "traceback": [
      "\u001b[0;31m---------------------------------------------------------------------------\u001b[0m",
      "\u001b[0;31mRuntimeError\u001b[0m                              Traceback (most recent call last)",
      "\u001b[0;32m<ipython-input-8-a3634a7e4ebc>\u001b[0m in \u001b[0;36m<module>\u001b[0;34m\u001b[0m\n\u001b[0;32m----> 1\u001b[0;31m \u001b[0mscores\u001b[0m \u001b[0;34m=\u001b[0m \u001b[0mtrain\u001b[0m\u001b[0;34m(\u001b[0m\u001b[0;34m)\u001b[0m\u001b[0;34m\u001b[0m\u001b[0m\n\u001b[0m",
      "\u001b[0;32m<ipython-input-7-80227fde2f41>\u001b[0m in \u001b[0;36mtrain\u001b[0;34m()\u001b[0m\n\u001b[1;32m     10\u001b[0m \u001b[0;34m\u001b[0m\u001b[0m\n\u001b[1;32m     11\u001b[0m     \u001b[0mprint\u001b[0m\u001b[0;34m(\u001b[0m\u001b[0;34m\"GPU available: {}\"\u001b[0m\u001b[0;34m.\u001b[0m\u001b[0mformat\u001b[0m\u001b[0;34m(\u001b[0m\u001b[0mtorch\u001b[0m\u001b[0;34m.\u001b[0m\u001b[0mcuda\u001b[0m\u001b[0;34m.\u001b[0m\u001b[0mis_available\u001b[0m\u001b[0;34m(\u001b[0m\u001b[0;34m)\u001b[0m\u001b[0;34m)\u001b[0m\u001b[0;34m)\u001b[0m\u001b[0;34m\u001b[0m\u001b[0m\n\u001b[0;32m---> 12\u001b[0;31m     \u001b[0mprint\u001b[0m\u001b[0;34m(\u001b[0m\u001b[0;34m\"GPU tensor test: {}\"\u001b[0m\u001b[0;34m.\u001b[0m\u001b[0mformat\u001b[0m\u001b[0;34m(\u001b[0m\u001b[0mtorch\u001b[0m\u001b[0;34m.\u001b[0m\u001b[0mrand\u001b[0m\u001b[0;34m(\u001b[0m\u001b[0;36m3\u001b[0m\u001b[0;34m,\u001b[0m \u001b[0;36m3\u001b[0m\u001b[0;34m)\u001b[0m\u001b[0;34m.\u001b[0m\u001b[0mcuda\u001b[0m\u001b[0;34m(\u001b[0m\u001b[0;34m)\u001b[0m\u001b[0;34m)\u001b[0m\u001b[0;34m)\u001b[0m\u001b[0;34m\u001b[0m\u001b[0m\n\u001b[0m\u001b[1;32m     13\u001b[0m \u001b[0;34m\u001b[0m\u001b[0m\n\u001b[1;32m     14\u001b[0m     \u001b[0menv\u001b[0m \u001b[0;34m=\u001b[0m \u001b[0mUnityEnvironment\u001b[0m\u001b[0;34m(\u001b[0m\u001b[0mfile_name\u001b[0m\u001b[0;34m=\u001b[0m\u001b[0;34m'/home/slavo/Dev/deep-rl-projects/ma_collab-compet/Tennis_Linux/Tennis.x86_64'\u001b[0m\u001b[0;34m,\u001b[0m \u001b[0mno_graphics\u001b[0m\u001b[0;34m=\u001b[0m\u001b[0;32mTrue\u001b[0m\u001b[0;34m)\u001b[0m\u001b[0;34m\u001b[0m\u001b[0m\n",
      "\u001b[0;31mRuntimeError\u001b[0m: CUDA error: out of memory"
     ]
    }
   ],
   "source": [
    "scores = train()"
   ]
  },
  {
   "cell_type": "code",
   "execution_count": 4,
   "metadata": {
    "scrolled": true
   },
   "outputs": [
    {
     "data": {
      "image/png": "[encoded data removed]",
      "text/plain": [
       "<matplotlib.figure.Figure at 0x7ff7a8cd3470>"
      ]
     },
     "metadata": {},
     "output_type": "display_data"
    }
   ],
   "source": [
    "# plot the scores\n",
    "fig = plt.figure()\n",
    "# ax = fig.add_subplot(111)\n",
    "plt.plot(np.arange(len(scores)), scores)\n",
    "plt.ylabel('Score')\n",
    "plt.xlabel('Episode #')\n",
    "plt.show()"
   ]
  },
  {
   "cell_type": "code",
   "execution_count": null,
   "metadata": {
    "collapsed": true
   },
   "outputs": [],
   "source": []
  }
 ],
 "metadata": {
  "kernelspec": {
   "display_name": "drl-pytorch",
   "language": "python",
   "name": "drl-pytorch"
  },
  "language_info": {
   "codemirror_mode": {
    "name": "ipython",
    "version": 3
   },
   "file_extension": ".py",
   "mimetype": "text/x-python",
   "name": "python",
   "nbconvert_exporter": "python",
   "pygments_lexer": "ipython3",
   "version": "3.7.0"
  },
  "pycharm": {
   "stem_cell": {
    "cell_type": "raw",
    "source": [],
    "metadata": {
     "collapsed": false
    }
   }
  }
 },
 "nbformat": 4,
 "nbformat_minor": 2
}